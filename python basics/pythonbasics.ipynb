{
 "cells": [
  {
   "cell_type": "markdown",
   "id": "b42a14d4",
   "metadata": {},
   "source": [
    "Q1. Create one variable containing following type of data:\n",
    "(i) string\n",
    "(ii) list\n",
    "(iii) float\n",
    "(iv) tuple"
   ]
  },
  {
   "cell_type": "code",
   "execution_count": 1,
   "id": "525197cb",
   "metadata": {},
   "outputs": [],
   "source": [
    "a=str('pwskills','datascience','python')\n",
    "b=[1,2,3.5,'machine learning']\n",
    "c=44.25,456.22\n",
    "d=(4,5,'maths')"
   ]
  },
  {
   "cell_type": "markdown",
   "id": "a13fdbab",
   "metadata": {},
   "source": [
    "Q2. Given are some following variables containing data:\n",
    "(i) var1 = ‘ ‘\n",
    "(ii) var2 = ‘[ DS , ML , Python]’\n",
    "(iii) var3 = [ ‘DS’ , ’ML’ , ‘Python’ ]\n",
    "(iv) var4 = 1.\n",
    "What will be the data type of the above given variable.\n",
    "\n",
    "(i) var1 =string\n",
    "(ii) var2 =string\n",
    "(iii) var3=list\n",
    "(iv) var4=int"
   ]
  },
  {
   "cell_type": "markdown",
   "id": "8a2f7866",
   "metadata": {},
   "source": [
    "Q3. Explain the use of the following operators using an example:\n",
    "(i) /\n",
    "(ii) %\n",
    "(iii) //\n",
    "(iv) **"
   ]
  },
  {
   "cell_type": "code",
   "execution_count": 18,
   "id": "101a62c2",
   "metadata": {},
   "outputs": [
    {
     "name": "stdout",
     "output_type": "stream",
     "text": [
      "2.2\n",
      "1\n",
      "2\n",
      "8\n"
     ]
    }
   ],
   "source": [
    "a,b=11,5\n",
    "print(a/b)\n",
    "\n",
    "a,b=11,5\n",
    "print(a%b)\n",
    "\n",
    "a,b=11,5\n",
    "print(a//b)\n",
    "\n",
    "a,b=2,3\n",
    "print(a**b)"
   ]
  },
  {
   "cell_type": "markdown",
   "id": "7ba08ce7",
   "metadata": {},
   "source": [
    "Q4. Create a list of length 10 of your choice containing multiple types of data. Using for loop print the element and its data type."
   ]
  },
  {
   "cell_type": "code",
   "execution_count": 25,
   "id": "6de3411c",
   "metadata": {},
   "outputs": [
    {
     "name": "stdout",
     "output_type": "stream",
     "text": [
      "2\n",
      "<class 'int'>\n",
      "4\n",
      "<class 'int'>\n",
      "6\n",
      "<class 'int'>\n",
      "8\n",
      "<class 'int'>\n",
      "10\n",
      "<class 'int'>\n",
      "pwskills\n",
      "<class 'str'>\n",
      "python\n",
      "<class 'str'>\n",
      "basics\n",
      "<class 'str'>\n",
      "54.25\n",
      "<class 'float'>\n",
      "99.9\n",
      "<class 'float'>\n"
     ]
    }
   ],
   "source": [
    "l=[2,4,6,8,10,'pwskills','python','basics',54.25,99.9]\n",
    "for i in l:\n",
    "    print(i)\n",
    "    print(type(i))"
   ]
  },
  {
   "cell_type": "markdown",
   "id": "57547533",
   "metadata": {},
   "source": [
    "Q5. Using a while loop, verify if the number A is purely divisible by number B and if so then how many\n",
    "times it can be divisible."
   ]
  },
  {
   "cell_type": "code",
   "execution_count": 31,
   "id": "601d5c75",
   "metadata": {},
   "outputs": [
    {
     "name": "stdout",
     "output_type": "stream",
     "text": [
      "The number A is divisible by B, and it can be divided 1 times.\n"
     ]
    }
   ],
   "source": [
    "A = 24 \n",
    "B = 3   \n",
    "\n",
    "count = 0  \n",
    "\n",
    "while A % B == 0:\n",
    "    A = A // B\n",
    "    count += 1\n",
    "\n",
    "if count > 0:\n",
    "    print(f\"The number A is divisible by B, and it can be divided {count} times.\")\n",
    "else:\n",
    "    print(\"The number A is not divisible by B.\")\n"
   ]
  },
  {
   "cell_type": "markdown",
   "id": "606f0ecb",
   "metadata": {},
   "source": [
    "Q6. Create a list containing 25 int type data. Using for loop and if-else condition print if the element is\n",
    "divisible by 3 or not."
   ]
  },
  {
   "cell_type": "code",
   "execution_count": 39,
   "id": "6e1e307c",
   "metadata": {},
   "outputs": [
    {
     "name": "stdout",
     "output_type": "stream",
     "text": [
      "2 is not divisible by 3\n",
      "4 is not divisible by 3\n",
      "6 is divisible by 3\n",
      "8 is not divisible by 3\n",
      "10 is not divisible by 3\n",
      "12 is divisible by 3\n",
      "15 is divisible by 3\n",
      "18 is divisible by 3\n",
      "20 is not divisible by 3\n",
      "22 is not divisible by 3\n",
      "24 is divisible by 3\n",
      "26 is not divisible by 3\n",
      "28 is not divisible by 3\n",
      "30 is divisible by 3\n",
      "32 is not divisible by 3\n",
      "33 is divisible by 3\n",
      "36 is divisible by 3\n",
      "34 is not divisible by 3\n",
      "98 is not divisible by 3\n",
      "46 is not divisible by 3\n",
      "24 is divisible by 3\n",
      "65 is not divisible by 3\n",
      "57 is divisible by 3\n",
      "7 is not divisible by 3\n",
      "88 is not divisible by 3\n"
     ]
    }
   ],
   "source": [
    "l=[2,4,6,8,10,12,15,18,20,22,24,26,28,30,32,33,36,34,98,46,24,65,57,7,88]\n",
    "for i in l:\n",
    "    if i % 3==0:\n",
    "        print(f'{i} is divisible by 3')\n",
    "    else:\n",
    "        print(f'{i} is not divisible by 3')"
   ]
  },
  {
   "cell_type": "markdown",
   "id": "5d89b2cf",
   "metadata": {},
   "source": [
    "\n",
    "Q7. What do you understand about mutable and immutable data types? Give examples for both showing\n",
    "this property."
   ]
  },
  {
   "cell_type": "code",
   "execution_count": 40,
   "id": "a45c4662",
   "metadata": {},
   "outputs": [
    {
     "ename": "TypeError",
     "evalue": "'str' object does not support item assignment",
     "output_type": "error",
     "traceback": [
      "\u001b[1;31m---------------------------------------------------------------------------\u001b[0m",
      "\u001b[1;31mTypeError\u001b[0m                                 Traceback (most recent call last)",
      "Cell \u001b[1;32mIn[40], line 2\u001b[0m\n\u001b[0;32m      1\u001b[0m a\u001b[38;5;241m=\u001b[39m\u001b[38;5;124m'\u001b[39m\u001b[38;5;124mmaths\u001b[39m\u001b[38;5;124m'\u001b[39m\n\u001b[1;32m----> 2\u001b[0m \u001b[43ma\u001b[49m\u001b[43m[\u001b[49m\u001b[38;5;241;43m0\u001b[39;49m\u001b[43m]\u001b[49m\u001b[38;5;241m=\u001b[39m\u001b[38;5;124m'\u001b[39m\u001b[38;5;124ms\u001b[39m\u001b[38;5;124m'\u001b[39m\n\u001b[0;32m      3\u001b[0m a\n",
      "\u001b[1;31mTypeError\u001b[0m: 'str' object does not support item assignment"
     ]
    }
   ],
   "source": [
    "a='maths'\n",
    "a[0]='s'\n",
    "a\n",
    "\n",
    "#here str is immutable "
   ]
  },
  {
   "cell_type": "code",
   "execution_count": 43,
   "id": "9447ab74",
   "metadata": {},
   "outputs": [
    {
     "data": {
      "text/plain": [
       "[2, 500, 4, 8]"
      ]
     },
     "execution_count": 43,
     "metadata": {},
     "output_type": "execute_result"
    }
   ],
   "source": [
    "a=[2,5,4,8]\n",
    "a[1]=500\n",
    "a\n",
    "\n",
    "#here list is mutable"
   ]
  },
  {
   "cell_type": "code",
   "execution_count": null,
   "id": "d9010d55",
   "metadata": {},
   "outputs": [],
   "source": []
  }
 ],
 "metadata": {
  "kernelspec": {
   "display_name": "Python 3 (ipykernel)",
   "language": "python",
   "name": "python3"
  },
  "language_info": {
   "codemirror_mode": {
    "name": "ipython",
    "version": 3
   },
   "file_extension": ".py",
   "mimetype": "text/x-python",
   "name": "python",
   "nbconvert_exporter": "python",
   "pygments_lexer": "ipython3",
   "version": "3.10.9"
  }
 },
 "nbformat": 4,
 "nbformat_minor": 5
}
